{
 "cells": [
  {
   "cell_type": "code",
   "execution_count": 1,
   "metadata": {},
   "outputs": [],
   "source": [
    "import csv"
   ]
  },
  {
   "cell_type": "code",
   "execution_count": 2,
   "metadata": {},
   "outputs": [],
   "source": [
    "filename=\"dataset.csv\""
   ]
  },
  {
   "cell_type": "code",
   "execution_count": 3,
   "metadata": {},
   "outputs": [
    {
     "name": "stdout",
     "output_type": "stream",
     "text": [
      "Total numer of rows: 116\n"
     ]
    }
   ],
   "source": [
    "fields=[]\n",
    "rows=[]\n",
    "with open(filename,'r') as csvfile:\n",
    "    csvreader=csv.reader(csvfile)\n",
    "    fields=next(csvreader)\n",
    "    for row in csvreader:\n",
    "        rows.append(row)\n",
    "    print(\"Total numer of rows: %d\"%(csvreader.line_num))\n"
   ]
  },
  {
   "cell_type": "code",
   "execution_count": 4,
   "metadata": {},
   "outputs": [],
   "source": [
    "import paho.mqtt.publish as publish"
   ]
  },
  {
   "cell_type": "code",
   "execution_count": 5,
   "metadata": {},
   "outputs": [],
   "source": [
    "channelID = \"1427569\"\n",
    "apiKey = \"EHIRJJL2BQAGU6Q5\"\n",
    "topic = \"channels/\" + channelID + \"/publish/\" + apiKey\n",
    "mqttHost = \"mqtt.thingspeak.com\"\n",
    "tTransport = \"tcp\"\n",
    "tPort = 1883\n",
    "tTLS = None"
   ]
  },
  {
   "cell_type": "code",
   "execution_count": 6,
   "metadata": {},
   "outputs": [],
   "source": [
    "class CircularQueue():\n",
    " \n",
    "    # constructor\n",
    "    def __init__(self, size): # initializing the class\n",
    "        self.size = size\n",
    "         \n",
    "        # initializing queue with none\n",
    "        self.queue = [None for i in range(size)]\n",
    "        self.front = self.rear = -1\n",
    " \n",
    "    def enqueue(self, data):\n",
    "         \n",
    "        # condition if queue is full\n",
    "        if ((self.rear + 1) % self.size == self.front):\n",
    "            print(\" Queue is Full\\n\")\n",
    "             \n",
    "        # condition for empty queue\n",
    "        elif (self.front == -1):\n",
    "            self.front = 0\n",
    "            self.rear = 0\n",
    "            self.queue[self.rear] = data\n",
    "        else:\n",
    "             \n",
    "            # next position of rear\n",
    "            self.rear = (self.rear + 1) % self.size\n",
    "            self.queue[self.rear] = data\n",
    "             \n",
    "    def dequeue(self):\n",
    "        if (self.front == -1): # condition for empty queue\n",
    "            #print (\"Queue is Empty\\n\")\n",
    "            return []\n",
    "             \n",
    "        # condition for only one element\n",
    "        elif (self.front == self.rear):\n",
    "            temp=self.queue[self.front]\n",
    "            self.front = -1\n",
    "            self.rear = -1\n",
    "            return temp\n",
    "        else:\n",
    "            temp = self.queue[self.front]\n",
    "            self.front = (self.front + 1) % self.size\n",
    "            return temp\n",
    " \n",
    "    def display(self):\n",
    "     \n",
    "        # condition for empty queue\n",
    "        if(self.front == -1):\n",
    "            print (\"Queue is Empty\")\n",
    " \n",
    "        elif (self.rear >= self.front):\n",
    "            print(\"Elements in the circular queue are:\",\n",
    "                                              end = \" \")\n",
    "            for i in range(self.front, self.rear + 1):\n",
    "                print(self.queue[i], end = \" \")\n",
    "            print ()\n",
    " \n",
    "        else:\n",
    "            print (\"Elements in Circular Queue are:\",\n",
    "                                           end = \" \")\n",
    "            for i in range(self.front, self.size):\n",
    "                print(self.queue[i], end = \" \")\n",
    "            for i in range(0, self.rear + 1):\n",
    "                print(self.queue[i], end = \" \")\n",
    "            print ()\n",
    " \n",
    "        if ((self.rear + 1) % self.size == self.front):\n",
    "            print(\"Queue is Full\")\n",
    " \n"
   ]
  },
  {
   "cell_type": "code",
   "execution_count": 7,
   "metadata": {},
   "outputs": [],
   "source": [
    "ob = CircularQueue(5)\n",
    "import time\n",
    "\n",
    "#Sending Data\n",
    "def edge():\n",
    "    for [timestamp,values,Sensor] in rows:\n",
    "        tPayload = \"field1=\" + str(timestamp)+ \"&field2=\" + str(values)+ \"&field3=\" + str(Sensor[-1])\n",
    "        try:\n",
    "           publish.single(topic, payload=tPayload, hostname=mqttHost, port=tPort, tls=tTLS, transport=tTransport)\n",
    "        \n",
    "\n",
    "        except (KeyboardInterrupt):\n",
    "           break\n",
    "        except:\n",
    "            print (\"[INFO] Failure in sending data\")\n",
    "            ob.enqueue([timestamp,values,Sensor])\n",
    "\n",
    "        time.sleep(60)\n",
    "        \n",
    "            \n",
    "#Buffered data    \n",
    "def deq():\n",
    "    buffer=ob.dequeue()\n",
    "    while(True):\n",
    "        \n",
    "        if len(buffer)!=0:\n",
    "            tPayload = \"field1=\" + str(buffer[0])+ \"&field2=\" + str(buffer[1])+ \"&field3=\" + str(buffer[2])\n",
    "            try:\n",
    "                publish.single(topic, payload=tPayload, hostname=mqttHost, port=tPort, tls=tTLS, transport=tTransport)\n",
    "                print('Buffered data published')\n",
    "                buffer=[]\n",
    "              \n",
    "\n",
    "            except (KeyboardInterrupt):\n",
    "                break\n",
    "            except:\n",
    "                pass\n",
    "            time.sleep(5)\n",
    "        else:\n",
    "            buffer=ob.dequeue()  "
   ]
  },
  {
   "cell_type": "code",
   "execution_count": null,
   "metadata": {},
   "outputs": [],
   "source": [
    "# importing the threading module\n",
    "import threading\n",
    "  \n",
    "if __name__ == \"__main__\":\n",
    "    # creating thread\n",
    "    t1 = threading.Thread(target=edge, args=())\n",
    "    t2 = threading.Thread(target=deq, args=())\n",
    "\n",
    "    # starting thread 1\n",
    "    t1.start()\n",
    "    # starting thread 2\n",
    "    t2.start()\n",
    "\n",
    "    # wait until thread 1 is completely executed\n",
    "    t1.join()\n",
    "    # wait until thread 2 is completely executed\n",
    "    t2.join() \n",
    "\n",
    "    # both threads completely executed\n",
    "    print(\"Done!\")"
   ]
  },
  {
   "cell_type": "code",
   "execution_count": null,
   "metadata": {},
   "outputs": [],
   "source": []
  },
  {
   "cell_type": "code",
   "execution_count": null,
   "metadata": {},
   "outputs": [],
   "source": []
  }
 ],
 "metadata": {
  "kernelspec": {
   "display_name": "Python 3",
   "language": "python",
   "name": "python3"
  },
  "language_info": {
   "codemirror_mode": {
    "name": "ipython",
    "version": 3
   },
   "file_extension": ".py",
   "mimetype": "text/x-python",
   "name": "python",
   "nbconvert_exporter": "python",
   "pygments_lexer": "ipython3",
   "version": "3.8.5"
  }
 },
 "nbformat": 4,
 "nbformat_minor": 4
}
